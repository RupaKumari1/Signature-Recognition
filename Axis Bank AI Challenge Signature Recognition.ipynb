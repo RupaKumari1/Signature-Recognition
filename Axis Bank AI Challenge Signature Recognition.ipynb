{
 "cells": [
  {
   "cell_type": "code",
   "execution_count": 1,
   "metadata": {},
   "outputs": [
    {
     "name": "stderr",
     "output_type": "stream",
     "text": [
      "C:\\Users\\Rupa\\Anaconda3\\lib\\site-packages\\h5py\\__init__.py:36: FutureWarning: Conversion of the second argument of issubdtype from `float` to `np.floating` is deprecated. In future, it will be treated as `np.float64 == np.dtype(float).type`.\n",
      "  from ._conv import register_converters as _register_converters\n",
      "Using TensorFlow backend.\n"
     ]
    }
   ],
   "source": [
    "import os\n",
    "from os import listdir\n",
    "import numpy as np\n",
    "import cv2\n",
    "import matplotlib.pyplot as plt\n",
    "import tensorflow as tf\n",
    "from sklearn.model_selection import train_test_split\n",
    "from keras.models import Sequential\n",
    "from keras.layers import Dense, Conv2D, MaxPooling2D, Dropout, Flatten,Activation\n",
    "from keras.optimizers import RMSprop\n",
    "from keras.callbacks import ModelCheckpoint, Callback, EarlyStopping\n",
    "from keras.utils import np_utils"
   ]
  },
  {
   "cell_type": "code",
   "execution_count": 2,
   "metadata": {},
   "outputs": [],
   "source": [
    "# Here 0 means Cat and 1 means Dog\n",
    "genuine = 1\n",
    "forged = 0\n",
    "#Returns whether the low memory mode is used.\n",
    "IS_LOW_MEMORY_MODE = True\n",
    "#current working directory of a process.\n",
    "cwd = os.getcwd()\n",
    "#This method is called when RandomState is initialized\n",
    "np.random.seed(2124)\n",
    "ROWS = 32\n",
    "COLS = 32"
   ]
  },
  {
   "cell_type": "code",
   "execution_count": 3,
   "metadata": {},
   "outputs": [],
   "source": [
    "genuine_image_paths = \"Signature/genuine\"\n",
    "forged_image_paths = \"Signature/forged\""
   ]
  },
  {
   "cell_type": "code",
   "execution_count": 4,
   "metadata": {},
   "outputs": [],
   "source": [
    "genuine_image_filenames = listdir(genuine_image_paths)\n",
    "forged_image_filenames = listdir(forged_image_paths)"
   ]
  },
  {
   "cell_type": "code",
   "execution_count": 5,
   "metadata": {},
   "outputs": [],
   "source": [
    "genuine_dir_list = []\n",
    "genuine_labels = []\n",
    "for i, d in enumerate(genuine_image_filenames):\n",
    "    genuine_labels.append(genuine)\n",
    "    genuine_dir_list.append(os.path.join(genuine_image_paths, d))    "
   ]
  },
  {
   "cell_type": "code",
   "execution_count": 6,
   "metadata": {},
   "outputs": [],
   "source": [
    "forged_dir_list = []\n",
    "forged_labels = []\n",
    "for i, d in enumerate(forged_image_filenames):\n",
    "    forged_labels.append(forged)\n",
    "    forged_dir_list.append(os.path.join(forged_image_paths, d))    "
   ]
  },
  {
   "cell_type": "code",
   "execution_count": 7,
   "metadata": {},
   "outputs": [],
   "source": [
    "genuine_img_list = []\n",
    "for i, d in enumerate(genuine_dir_list):    \n",
    "    raw_image = cv2.imread(d,cv2.IMREAD_COLOR) \n",
    "    b,g,r = cv2.split(raw_image)\n",
    "    raw_image = cv2.merge([r,g,b])   \n",
    "    resize_img = cv2.resize(raw_image, (ROWS, COLS), interpolation=cv2.INTER_CUBIC)\n",
    "    resize_img = resize_img.astype('float32')\n",
    "    resize_img /= 255\n",
    "    genuine_img_list.append(resize_img)"
   ]
  },
  {
   "cell_type": "code",
   "execution_count": 8,
   "metadata": {},
   "outputs": [],
   "source": [
    "forged_img_list = []\n",
    "for i, d in enumerate(forged_dir_list):\n",
    "    raw_image = cv2.imread(d,cv2.IMREAD_COLOR)     \n",
    "    b,g,r = cv2.split(raw_image)\n",
    "    raw_image = cv2.merge([r,g,b])\n",
    "    resize_img = cv2.resize(raw_image, (ROWS, COLS), interpolation=cv2.INTER_CUBIC)\n",
    "    resize_img = resize_img.astype('float32')\n",
    "    resize_img /= 255\n",
    "    forged_img_list.append(resize_img)"
   ]
  },
  {
   "cell_type": "code",
   "execution_count": 9,
   "metadata": {},
   "outputs": [],
   "source": [
    "def genuine_and_forged_img(idx):\n",
    "    genuine_img = genuine_img_list[idx]\n",
    "    forged_img = forged_img_list[idx]\n",
    "    pair = np.concatenate((genuine_img, forged_img), axis=1)\n",
    "    plt.figure(figsize=(8,2))\n",
    "    plt.imshow(pair)\n",
    "    plt.show()"
   ]
  },
  {
   "cell_type": "code",
   "execution_count": 10,
   "metadata": {},
   "outputs": [
    {
     "data": {
      "image/png": "[encoded data removed]",
      "text/plain": [
       "<Figure size 576x144 with 1 Axes>"
      ]
     },
     "metadata": {},
     "output_type": "display_data"
    },
    {
     "data": {
      "image/png": "[encoded data removed]",
      "text/plain": [
       "<Figure size 576x144 with 1 Axes>"
      ]
     },
     "metadata": {},
     "output_type": "display_data"
    },
    {
     "data": {
      "image/png": "[encoded data removed]",
      "text/plain": [
       "<Figure size 576x144 with 1 Axes>"
      ]
     },
     "metadata": {},
     "output_type": "display_data"
    },
    {
     "data": {
      "image/png": "[encoded data removed]",
      "text/plain": [
       "<Figure size 576x144 with 1 Axes>"
      ]
     },
     "metadata": {},
     "output_type": "display_data"
    },
    {
     "data": {
      "image/png": "[encoded data removed]",
      "text/plain": [
       "<Figure size 576x144 with 1 Axes>"
      ]
     },
     "metadata": {},
     "output_type": "display_data"
    }
   ],
   "source": [
    "for idx in range(0,5):\n",
    "    genuine_and_forged_img(idx)"
   ]
  },
  {
   "cell_type": "code",
   "execution_count": 11,
   "metadata": {},
   "outputs": [],
   "source": [
    "image_list = genuine_img_list+forged_img_list\n",
    "label_list = genuine_labels+forged_labels"
   ]
  },
  {
   "cell_type": "code",
   "execution_count": 12,
   "metadata": {},
   "outputs": [
    {
     "data": {
      "text/plain": [
       "(300, 300)"
      ]
     },
     "execution_count": 12,
     "metadata": {},
     "output_type": "execute_result"
    }
   ],
   "source": [
    "len(image_list),len(label_list)"
   ]
  },
  {
   "cell_type": "code",
   "execution_count": 13,
   "metadata": {},
   "outputs": [
    {
     "data": {
      "text/plain": [
       "(300, 32, 32, 3)"
      ]
     },
     "execution_count": 13,
     "metadata": {},
     "output_type": "execute_result"
    }
   ],
   "source": [
    "image_list = np.array(image_list)\n",
    "image_list.shape"
   ]
  },
  {
   "cell_type": "code",
   "execution_count": 14,
   "metadata": {},
   "outputs": [],
   "source": [
    "# First split the data in two sets, 80% for training, 20% for Val/Test)\n",
    "train, test, train_val,test_val = train_test_split(image_list,label_list, test_size=0.2, random_state=1)"
   ]
  },
  {
   "cell_type": "code",
   "execution_count": 15,
   "metadata": {},
   "outputs": [
    {
     "name": "stdout",
     "output_type": "stream",
     "text": [
      "Train shape: (240, 32, 32, 3)\n",
      "Test shape: (60, 32, 32, 3)\n"
     ]
    }
   ],
   "source": [
    "print(\"Train shape: {}\".format(train.shape))\n",
    "print(\"Test shape: {}\".format(test.shape))"
   ]
  },
  {
   "cell_type": "code",
   "execution_count": 16,
   "metadata": {},
   "outputs": [
    {
     "name": "stdout",
     "output_type": "stream",
     "text": [
      "Total number of outputs :  2\n",
      "Output classes :  [0 1]\n"
     ]
    }
   ],
   "source": [
    "# Find the unique numbers from the train labels\n",
    "classes = np.unique(train_val)\n",
    "nClasses = len(classes)\n",
    "print('Total number of outputs : ', nClasses)\n",
    "print('Output classes : ', classes)"
   ]
  },
  {
   "cell_type": "code",
   "execution_count": 17,
   "metadata": {},
   "outputs": [],
   "source": [
    "def createModel():\n",
    "    model = Sequential()\n",
    "\n",
    "    model.add(Conv2D(32, 3, padding='same', input_shape=train.shape[1:], activation='relu'))\n",
    "    model.add(Conv2D(32, 3, padding='same', activation='relu'))\n",
    "    model.add(MaxPooling2D(pool_size=(2, 2), data_format=\"channels_first\"))\n",
    "    #print(\"First layer...\")\n",
    "    model.add(Conv2D(64, 3, padding='same', activation='relu'))\n",
    "    model.add(Conv2D(64, 3, padding='same', activation='relu'))\n",
    "    model.add(MaxPooling2D(pool_size=(2, 2), data_format=\"channels_first\"))\n",
    "    #print(\"Second layer...\")\n",
    "    model.add(Conv2D(128, 3, padding='same', activation='relu'))\n",
    "    model.add(Conv2D(128, 3, padding='same', activation='relu'))\n",
    "    model.add(MaxPooling2D(pool_size=(2, 2), data_format=\"channels_first\"))\n",
    "    #print(\"Third layer...\")\n",
    "    model.add(Conv2D(256, 3, padding='same', activation='relu'))\n",
    "    model.add(Conv2D(256, 3, padding='same', activation='relu'))\n",
    "    model.add(Conv2D(256, 3, padding='same', activation='relu'))\n",
    "    model.add(MaxPooling2D(pool_size=(2, 2), data_format=\"channels_first\"))    \n",
    "    #print(\"Flattening, etc...\")\n",
    "    model.add(Flatten())\n",
    "    model.add(Dense(256, activation='relu'))\n",
    "    model.add(Dropout(0.5))\n",
    "    \n",
    "    model.add(Dense(256, activation='relu'))\n",
    "    model.add(Dropout(0.5))\n",
    "\n",
    "    model.add(Dense(1))\n",
    "    model.add(Activation('sigmoid'))\n",
    "    return model"
   ]
  },
  {
   "cell_type": "code",
   "execution_count": 18,
   "metadata": {},
   "outputs": [],
   "source": [
    "model = createModel()\n",
    "batch_size = 16\n",
    "epochs = 50\n",
    "optimizer = 'adam'\n",
    "objective = 'binary_crossentropy'\n",
    "model.compile(loss=objective, optimizer=optimizer, metrics=['accuracy'])"
   ]
  },
  {
   "cell_type": "code",
   "execution_count": 19,
   "metadata": {},
   "outputs": [
    {
     "name": "stdout",
     "output_type": "stream",
     "text": [
      "_________________________________________________________________\n",
      "Layer (type)                 Output Shape              Param #   \n",
      "=================================================================\n",
      "conv2d_1 (Conv2D)            (None, 32, 32, 32)        896       \n",
      "_________________________________________________________________\n",
      "conv2d_2 (Conv2D)            (None, 32, 32, 32)        9248      \n",
      "_________________________________________________________________\n",
      "max_pooling2d_1 (MaxPooling2 (None, 32, 16, 16)        0         \n",
      "_________________________________________________________________\n",
      "conv2d_3 (Conv2D)            (None, 32, 16, 64)        9280      \n",
      "_________________________________________________________________\n",
      "conv2d_4 (Conv2D)            (None, 32, 16, 64)        36928     \n",
      "_________________________________________________________________\n",
      "max_pooling2d_2 (MaxPooling2 (None, 32, 8, 32)         0         \n",
      "_________________________________________________________________\n",
      "conv2d_5 (Conv2D)            (None, 32, 8, 128)        36992     \n",
      "_________________________________________________________________\n",
      "conv2d_6 (Conv2D)            (None, 32, 8, 128)        147584    \n",
      "_________________________________________________________________\n",
      "max_pooling2d_3 (MaxPooling2 (None, 32, 4, 64)         0         \n",
      "_________________________________________________________________\n",
      "conv2d_7 (Conv2D)            (None, 32, 4, 256)        147712    \n",
      "_________________________________________________________________\n",
      "conv2d_8 (Conv2D)            (None, 32, 4, 256)        590080    \n",
      "_________________________________________________________________\n",
      "conv2d_9 (Conv2D)            (None, 32, 4, 256)        590080    \n",
      "_________________________________________________________________\n",
      "max_pooling2d_4 (MaxPooling2 (None, 32, 2, 128)        0         \n",
      "_________________________________________________________________\n",
      "flatten_1 (Flatten)          (None, 8192)              0         \n",
      "_________________________________________________________________\n",
      "dense_1 (Dense)              (None, 256)               2097408   \n",
      "_________________________________________________________________\n",
      "dropout_1 (Dropout)          (None, 256)               0         \n",
      "_________________________________________________________________\n",
      "dense_2 (Dense)              (None, 256)               65792     \n",
      "_________________________________________________________________\n",
      "dropout_2 (Dropout)          (None, 256)               0         \n",
      "_________________________________________________________________\n",
      "dense_3 (Dense)              (None, 1)                 257       \n",
      "_________________________________________________________________\n",
      "activation_1 (Activation)    (None, 1)                 0         \n",
      "=================================================================\n",
      "Total params: 3,732,257\n",
      "Trainable params: 3,732,257\n",
      "Non-trainable params: 0\n",
      "_________________________________________________________________\n"
     ]
    }
   ],
   "source": [
    "model.summary()"
   ]
  },
  {
   "cell_type": "code",
   "execution_count": 20,
   "metadata": {},
   "outputs": [
    {
     "name": "stdout",
     "output_type": "stream",
     "text": [
      "Train on 240 samples, validate on 60 samples\n",
      "Epoch 1/50\n",
      "240/240 [==============================] - 15s 62ms/step - loss: 0.7439 - acc: 0.5000 - val_loss: 0.6944 - val_acc: 0.4667\n",
      "Epoch 2/50\n",
      "240/240 [==============================] - 11s 47ms/step - loss: 0.6927 - acc: 0.5292 - val_loss: 0.6933 - val_acc: 0.4667\n",
      "Epoch 3/50\n",
      "240/240 [==============================] - 11s 48ms/step - loss: 0.6948 - acc: 0.4625 - val_loss: 0.6943 - val_acc: 0.4667\n",
      "Epoch 4/50\n",
      "240/240 [==============================] - 12s 50ms/step - loss: 0.6933 - acc: 0.5042 - val_loss: 0.6946 - val_acc: 0.4667\n",
      "Epoch 5/50\n",
      "240/240 [==============================] - 12s 48ms/step - loss: 0.6927 - acc: 0.5042 - val_loss: 0.6939 - val_acc: 0.4667\n",
      "Epoch 6/50\n",
      "240/240 [==============================] - 11s 45ms/step - loss: 0.6926 - acc: 0.5292 - val_loss: 0.6943 - val_acc: 0.4667\n",
      "Epoch 7/50\n",
      "240/240 [==============================] - 11s 45ms/step - loss: 0.6952 - acc: 0.4750 - val_loss: 0.6927 - val_acc: 0.5333\n",
      "Epoch 8/50\n",
      "240/240 [==============================] - 11s 45ms/step - loss: 0.6943 - acc: 0.4708 - val_loss: 0.6943 - val_acc: 0.4667\n",
      "Epoch 9/50\n",
      "240/240 [==============================] - 11s 45ms/step - loss: 0.6937 - acc: 0.5042 - val_loss: 0.6949 - val_acc: 0.4667\n",
      "Epoch 10/50\n",
      "240/240 [==============================] - 11s 45ms/step - loss: 0.6926 - acc: 0.5083 - val_loss: 0.6946 - val_acc: 0.4667\n",
      "Epoch 11/50\n",
      "240/240 [==============================] - 11s 45ms/step - loss: 0.6927 - acc: 0.5000 - val_loss: 0.6947 - val_acc: 0.4667\n",
      "Epoch 12/50\n",
      "240/240 [==============================] - 11s 45ms/step - loss: 0.6918 - acc: 0.5292 - val_loss: 0.6943 - val_acc: 0.4667\n",
      "Epoch 13/50\n",
      "240/240 [==============================] - 11s 45ms/step - loss: 0.6938 - acc: 0.5083 - val_loss: 0.6944 - val_acc: 0.4667\n",
      "Epoch 14/50\n",
      "240/240 [==============================] - 11s 45ms/step - loss: 0.6931 - acc: 0.4958 - val_loss: 0.6939 - val_acc: 0.4667\n",
      "Epoch 15/50\n",
      "240/240 [==============================] - 13s 54ms/step - loss: 0.6936 - acc: 0.5042 - val_loss: 0.6937 - val_acc: 0.4667\n",
      "Epoch 16/50\n",
      "240/240 [==============================] - 16s 69ms/step - loss: 0.6935 - acc: 0.5042 - val_loss: 0.6935 - val_acc: 0.4667\n",
      "Epoch 17/50\n",
      "240/240 [==============================] - 16s 68ms/step - loss: 0.6932 - acc: 0.4958 - val_loss: 0.6935 - val_acc: 0.4667\n",
      "Epoch 18/50\n",
      "240/240 [==============================] - 16s 68ms/step - loss: 0.6931 - acc: 0.5083 - val_loss: 0.6941 - val_acc: 0.4667\n",
      "Epoch 19/50\n",
      "240/240 [==============================] - 16s 68ms/step - loss: 0.6914 - acc: 0.5250 - val_loss: 0.6938 - val_acc: 0.4667\n",
      "Epoch 20/50\n",
      "240/240 [==============================] - 16s 68ms/step - loss: 0.6935 - acc: 0.5208 - val_loss: 0.6936 - val_acc: 0.4667\n",
      "Epoch 21/50\n",
      "240/240 [==============================] - 16s 68ms/step - loss: 0.6933 - acc: 0.5000 - val_loss: 0.6940 - val_acc: 0.4667\n",
      "Epoch 22/50\n",
      "240/240 [==============================] - 16s 68ms/step - loss: 0.6934 - acc: 0.4792 - val_loss: 0.6945 - val_acc: 0.4667\n",
      "Epoch 23/50\n",
      "240/240 [==============================] - 16s 68ms/step - loss: 0.6939 - acc: 0.4833 - val_loss: 0.6948 - val_acc: 0.4667\n",
      "Epoch 24/50\n",
      "240/240 [==============================] - 16s 69ms/step - loss: 0.6926 - acc: 0.5125 - val_loss: 0.6942 - val_acc: 0.4667\n",
      "Epoch 25/50\n",
      "240/240 [==============================] - 17s 71ms/step - loss: 0.6919 - acc: 0.5250 - val_loss: 0.6941 - val_acc: 0.4667\n",
      "Epoch 26/50\n",
      "240/240 [==============================] - 16s 68ms/step - loss: 0.6938 - acc: 0.4917 - val_loss: 0.6944 - val_acc: 0.4667\n",
      "Epoch 27/50\n",
      "240/240 [==============================] - 16s 68ms/step - loss: 0.6928 - acc: 0.5333 - val_loss: 0.6936 - val_acc: 0.4667\n",
      "Epoch 28/50\n",
      "240/240 [==============================] - 17s 70ms/step - loss: 0.6941 - acc: 0.5042 - val_loss: 0.6937 - val_acc: 0.4667\n",
      "Epoch 29/50\n",
      "240/240 [==============================] - 17s 69ms/step - loss: 0.6923 - acc: 0.5000 - val_loss: 0.6938 - val_acc: 0.4667\n",
      "Epoch 30/50\n",
      "240/240 [==============================] - 16s 68ms/step - loss: 0.6927 - acc: 0.5083 - val_loss: 0.6938 - val_acc: 0.4667\n",
      "Epoch 31/50\n",
      "240/240 [==============================] - 16s 68ms/step - loss: 0.6927 - acc: 0.5167 - val_loss: 0.6940 - val_acc: 0.4667\n",
      "Epoch 32/50\n",
      "240/240 [==============================] - 16s 68ms/step - loss: 0.6924 - acc: 0.5250 - val_loss: 0.6939 - val_acc: 0.4667\n",
      "Epoch 33/50\n",
      "240/240 [==============================] - 16s 68ms/step - loss: 0.6929 - acc: 0.5083 - val_loss: 0.6939 - val_acc: 0.4667\n",
      "Epoch 34/50\n",
      "240/240 [==============================] - 16s 68ms/step - loss: 0.6933 - acc: 0.5000 - val_loss: 0.6942 - val_acc: 0.4667\n",
      "Epoch 35/50\n",
      "240/240 [==============================] - 16s 68ms/step - loss: 0.6922 - acc: 0.5125 - val_loss: 0.6942 - val_acc: 0.4667\n",
      "Epoch 36/50\n",
      "240/240 [==============================] - 16s 68ms/step - loss: 0.6935 - acc: 0.4667 - val_loss: 0.6946 - val_acc: 0.4667\n",
      "Epoch 37/50\n",
      "240/240 [==============================] - 16s 68ms/step - loss: 0.6935 - acc: 0.4958 - val_loss: 0.6940 - val_acc: 0.4667\n",
      "Epoch 38/50\n",
      "240/240 [==============================] - 16s 68ms/step - loss: 0.6925 - acc: 0.5125 - val_loss: 0.6940 - val_acc: 0.4667\n",
      "Epoch 39/50\n",
      "240/240 [==============================] - 16s 68ms/step - loss: 0.6939 - acc: 0.4750 - val_loss: 0.6942 - val_acc: 0.4667\n",
      "Epoch 40/50\n",
      "240/240 [==============================] - 17s 69ms/step - loss: 0.6944 - acc: 0.4750 - val_loss: 0.6935 - val_acc: 0.4667\n",
      "Epoch 41/50\n",
      "240/240 [==============================] - 16s 68ms/step - loss: 0.6941 - acc: 0.4917 - val_loss: 0.6940 - val_acc: 0.4667\n",
      "Epoch 42/50\n",
      "240/240 [==============================] - 16s 68ms/step - loss: 0.6936 - acc: 0.5042 - val_loss: 0.6937 - val_acc: 0.4667\n",
      "Epoch 43/50\n",
      "240/240 [==============================] - 16s 68ms/step - loss: 0.6932 - acc: 0.5125 - val_loss: 0.6944 - val_acc: 0.4667\n",
      "Epoch 44/50\n",
      "240/240 [==============================] - 16s 68ms/step - loss: 0.6937 - acc: 0.5083 - val_loss: 0.6947 - val_acc: 0.4667\n",
      "Epoch 45/50\n",
      "240/240 [==============================] - 16s 68ms/step - loss: 0.6930 - acc: 0.5125 - val_loss: 0.6944 - val_acc: 0.4667\n",
      "Epoch 46/50\n",
      "240/240 [==============================] - 16s 68ms/step - loss: 0.6938 - acc: 0.5208 - val_loss: 0.6939 - val_acc: 0.4667\n",
      "Epoch 47/50\n",
      "240/240 [==============================] - 16s 68ms/step - loss: 0.6930 - acc: 0.5333 - val_loss: 0.6949 - val_acc: 0.4667\n",
      "Epoch 48/50\n",
      "240/240 [==============================] - 16s 68ms/step - loss: 0.6930 - acc: 0.5000 - val_loss: 0.6946 - val_acc: 0.4667\n",
      "Epoch 49/50\n",
      "240/240 [==============================] - 16s 68ms/step - loss: 0.6938 - acc: 0.5042 - val_loss: 0.6940 - val_acc: 0.4667\n",
      "Epoch 50/50\n",
      "240/240 [==============================] - 16s 68ms/step - loss: 0.6937 - acc: 0.5125 - val_loss: 0.6945 - val_acc: 0.4667\n"
     ]
    }
   ],
   "source": [
    "history = model.fit(train, train_val, batch_size=batch_size, epochs=epochs, verbose=1,validation_data=(test, test_val))"
   ]
  },
  {
   "cell_type": "code",
   "execution_count": 21,
   "metadata": {},
   "outputs": [
    {
     "name": "stdout",
     "output_type": "stream",
     "text": [
      "60/60 [==============================] - 1s 19ms/step\n"
     ]
    },
    {
     "data": {
      "text/plain": [
       "[0.6944817622502645, 0.4666666626930237]"
      ]
     },
     "execution_count": 21,
     "metadata": {},
     "output_type": "execute_result"
    }
   ],
   "source": [
    "model.evaluate(test, test_val)"
   ]
  },
  {
   "cell_type": "code",
   "execution_count": 26,
   "metadata": {},
   "outputs": [],
   "source": [
    "predictions = model.predict(test, verbose=2)"
   ]
  },
  {
   "cell_type": "code",
   "execution_count": 28,
   "metadata": {},
   "outputs": [
    {
     "data": {
      "text/plain": [
       "array([0.5088367], dtype=float32)"
      ]
     },
     "execution_count": 28,
     "metadata": {},
     "output_type": "execute_result"
    }
   ],
   "source": [
    "predictions[0]"
   ]
  },
  {
   "cell_type": "code",
   "execution_count": 23,
   "metadata": {},
   "outputs": [
    {
     "data": {
      "image/png": "[encoded data removed]",
      "text/plain": [
       "<Figure size 432x288 with 4 Axes>"
      ]
     },
     "metadata": {},
     "output_type": "display_data"
    }
   ],
   "source": [
    "fig=plt.figure()\n",
    "\n",
    "for index in range(4):\n",
    "    # cat: [1,0]\n",
    "    # dog: [0,1]\n",
    "    y = fig.add_subplot(1,6,index+1)\n",
    "    #model_out = model.predict([data])[0]\n",
    "    img = test[index]    \n",
    "    model_out = predictions[index]\n",
    "    if np.argmax(model_out) == 0: str_label='Forged'\n",
    "    else: str_label='Genuine'\n",
    "        \n",
    "    y.imshow(img)\n",
    "    plt.title(str_label)\n",
    "    y.axes.get_xaxis().set_visible(False)\n",
    "    y.axes.get_yaxis().set_visible(False)\n",
    "plt.show()"
   ]
  },
  {
   "cell_type": "code",
   "execution_count": null,
   "metadata": {},
   "outputs": [],
   "source": []
  }
 ],
 "metadata": {
  "kernelspec": {
   "display_name": "Python 3",
   "language": "python",
   "name": "python3"
  },
  "language_info": {
   "codemirror_mode": {
    "name": "ipython",
    "version": 3
   },
   "file_extension": ".py",
   "mimetype": "text/x-python",
   "name": "python",
   "nbconvert_exporter": "python",
   "pygments_lexer": "ipython3",
   "version": "3.6.5"
  }
 },
 "nbformat": 4,
 "nbformat_minor": 2
}
